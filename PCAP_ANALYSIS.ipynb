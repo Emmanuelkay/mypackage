{
  "nbformat": 4,
  "nbformat_minor": 0,
  "metadata": {
    "colab": {
      "provenance": [],
      "authorship_tag": "ABX9TyPzndEMwc5GOHvzKlbSX4h5",
      "include_colab_link": true
    },
    "kernelspec": {
      "name": "python3",
      "display_name": "Python 3"
    },
    "language_info": {
      "name": "python"
    }
  },
  "cells": [
    {
      "cell_type": "markdown",
      "metadata": {
        "id": "view-in-github",
        "colab_type": "text"
      },
      "source": [
        "<a href=\"https://colab.research.google.com/github/Emmanuelkay/mypackage/blob/master/PCAP_ANALYSIS.ipynb\" target=\"_parent\"><img src=\"https://colab.research.google.com/assets/colab-badge.svg\" alt=\"Open In Colab\"/></a>"
      ]
    },
    {
      "cell_type": "code",
      "execution_count": null,
      "metadata": {
        "id": "zf5Bj4BdcvRS"
      },
      "outputs": [],
      "source": []
    },
    {
      "cell_type": "markdown",
      "source": [
        "This code is meant to analyse pcap"
      ],
      "metadata": {
        "id": "6JTsjwvjc0Td"
      }
    },
    {
      "cell_type": "code",
      "source": [
        "\n",
        "import pyshark\n",
        "import nest_asyncio\n",
        "\n",
        "# Apply nest_asyncio to integrate with the existing event loop\n",
        "nest_asyncio.apply()\n",
        "\n",
        "# Load the PCAP file\n",
        "pcap_file_path = \"sensoroni_nids_2175.pcap\"\n",
        "\n",
        "# Open the PCAP file without async loop\n",
        "capture = pyshark.FileCapture(pcap_file_path, use_json=True, include_raw=True)\n",
        "\n",
        "ip_addresses = {}\n",
        "tls_traffic = 0\n",
        "total_packets = 0\n",
        "\n",
        "try:\n",
        "    # Iterate over packets synchronously\n",
        "    for packet in capture:\n",
        "        total_packets += 1\n",
        "        if 'IP' in packet:\n",
        "            src_ip = packet.ip.src\n",
        "            dst_ip = packet.ip.dst\n",
        "            ip_addresses[src_ip] = ip_addresses.get(src_ip, 0) + 1\n",
        "            ip_addresses[dst_ip] = ip_addresses.get(dst_ip, 0) + 1\n",
        "\n",
        "        if 'TLS' in packet:\n",
        "            tls_traffic += 1\n",
        "\n",
        "    # Sort and summarize\n",
        "    sorted_ips = sorted(ip_addresses.items(), key=lambda item: item[1], reverse=True)\n",
        "    print(f\"Total Packets: {total_packets}\")\n",
        "    print(f\"Unique IPs: {len(ip_addresses)}\")\n",
        "    print(f\"Top IPs: {sorted_ips[:10]}\")\n",
        "    print(f\"TLS Packets: {tls_traffic}\")\n",
        "\n",
        "finally:\n",
        "    capture.close()"
      ],
      "metadata": {
        "colab": {
          "base_uri": "https://localhost:8080/"
        },
        "id": "khDuweHKeflr",
        "outputId": "05fd42fb-c7d4-409c-8303-932cf9a9d134"
      },
      "execution_count": null,
      "outputs": [
        {
          "output_type": "stream",
          "name": "stdout",
          "text": [
            "Requirement already satisfied: nest-asyncio in /usr/local/lib/python3.10/dist-packages (1.6.0)\n",
            "Total Packets: 36\n",
            "Unique IPs: 2\n",
            "Top IPs: [('45.135.232.70', 36), ('10.10.14.112', 36)]\n",
            "TLS Packets: 8\n"
          ]
        }
      ]
    }
  ]
}